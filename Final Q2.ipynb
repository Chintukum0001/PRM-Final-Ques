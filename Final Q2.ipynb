{
 "cells": [
  {
   "cell_type": "code",
   "execution_count": 3,
   "id": "cfbd7783",
   "metadata": {},
   "outputs": [
    {
     "name": "stdout",
     "output_type": "stream",
     "text": [
      "Enter n: 4\n",
      "4 fibonacci no is:  2\n"
     ]
    }
   ],
   "source": [
    "def fib_num(n):\n",
    "    if n<= 0:\n",
    "        return \"incorrect input\"\n",
    "    else:\n",
    "        fib = [0, 1]\n",
    "        if n > 2:\n",
    "         for i in range (2, n):\n",
    "            fib.append(fib[i-1] + fib[i-2])\n",
    "    return fib[n-1]\n",
    "\n",
    "n=int(input(\"Enter n: \"))\n",
    "print(\"{} fibonacci no is: \".format(n),fib_num(n))"
   ]
  },
  {
   "cell_type": "code",
   "execution_count": 4,
   "id": "e2a75654",
   "metadata": {},
   "outputs": [
    {
     "name": "stdout",
     "output_type": "stream",
     "text": [
      "Enter n: 0\n",
      "0 fibonacci no is:  incorrect input\n"
     ]
    }
   ],
   "source": [
    "def fib_num(n):\n",
    "    if n<= 0:\n",
    "        return \"incorrect input\"\n",
    "    else:\n",
    "        fib = [0, 1]\n",
    "        if n > 2:\n",
    "         for i in range (2, n):\n",
    "            fib.append(fib[i-1] + fib[i-2])\n",
    "    return fib[n-1]\n",
    "\n",
    "n=int(input(\"Enter n: \"))\n",
    "print(\"{} fibonacci no is: \".format(n),fib_num(n))"
   ]
  }
 ],
 "metadata": {
  "kernelspec": {
   "display_name": "Python 3 (ipykernel)",
   "language": "python",
   "name": "python3"
  },
  "language_info": {
   "codemirror_mode": {
    "name": "ipython",
    "version": 3
   },
   "file_extension": ".py",
   "mimetype": "text/x-python",
   "name": "python",
   "nbconvert_exporter": "python",
   "pygments_lexer": "ipython3",
   "version": "3.11.0"
  }
 },
 "nbformat": 4,
 "nbformat_minor": 5
}
