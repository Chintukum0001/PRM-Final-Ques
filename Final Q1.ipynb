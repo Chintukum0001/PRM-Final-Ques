{
 "cells": [
  {
   "cell_type": "code",
   "execution_count": 9,
   "id": "87aa8e38",
   "metadata": {},
   "outputs": [
    {
     "name": "stdout",
     "output_type": "stream",
     "text": [
      "1st Largest element is: 6\n",
      "1st Smallest element is: 1\n",
      "2nd Largest element is: 5\n",
      "2nd Smallest element is: 2\n",
      "3st Largest element is: 4\n",
      "3st Smallest element is: 3\n"
     ]
    }
   ],
   "source": [
    "def find_len(list1):\n",
    "    length = len(list1)\n",
    "    print(\"1st Largest element is:\", list1[length-1])\n",
    "    print(\"1st Smallest element is:\", list1[0])\n",
    "    print(\"2nd Largest element is:\", list1[length-2])\n",
    "    print(\"2nd Smallest element is:\", list1[1])\n",
    "    print(\"3st Largest element is:\", list1[length-3])\n",
    "    print(\"3st Smallest element is:\", list1[2])\n",
    "\n",
    "list1=[1 ,2, 3, 4, 5, 6]\n",
    "Largest = find_len(list1)"
   ]
  },
  {
   "cell_type": "code",
   "execution_count": null,
   "id": "f36fdbb7",
   "metadata": {},
   "outputs": [],
   "source": []
  }
 ],
 "metadata": {
  "kernelspec": {
   "display_name": "Python 3 (ipykernel)",
   "language": "python",
   "name": "python3"
  },
  "language_info": {
   "codemirror_mode": {
    "name": "ipython",
    "version": 3
   },
   "file_extension": ".py",
   "mimetype": "text/x-python",
   "name": "python",
   "nbconvert_exporter": "python",
   "pygments_lexer": "ipython3",
   "version": "3.11.0"
  }
 },
 "nbformat": 4,
 "nbformat_minor": 5
}
